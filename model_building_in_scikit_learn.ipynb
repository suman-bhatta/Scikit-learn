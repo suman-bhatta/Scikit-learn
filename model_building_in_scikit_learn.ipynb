{
 "cells": [
  {
   "cell_type": "markdown",
   "metadata": {},
   "source": [
    "Learning Model Building in Scikit-learn"
   ]
  },
  {
   "cell_type": "markdown",
   "metadata": {},
   "source": [
    "Installation of Scikit- learn"
   ]
  },
  {
   "cell_type": "code",
   "execution_count": null,
   "metadata": {},
   "outputs": [],
   "source": [
    "! pip install -U scikit-learn"
   ]
  },
  {
   "cell_type": "markdown",
   "metadata": {},
   "source": [
    "Step 1: Load a Dataset"
   ]
  },
  {
   "cell_type": "code",
   "execution_count": 6,
   "metadata": {},
   "outputs": [
    {
     "name": "stdout",
     "output_type": "stream",
     "text": [
      "Feature names: ['sepal length (cm)', 'sepal width (cm)', 'petal length (cm)', 'petal width (cm)']\n",
      "Target names: ['setosa' 'versicolor' 'virginica']\n",
      "\n",
      "Type of X is: <class 'numpy.ndarray'>\n",
      "\n",
      "First 5 rows of X:\n",
      " [[5.1 3.5 1.4 0.2]\n",
      " [4.9 3.  1.4 0.2]\n",
      " [4.7 3.2 1.3 0.2]\n",
      " [4.6 3.1 1.5 0.2]\n",
      " [5.  3.6 1.4 0.2]]\n"
     ]
    }
   ],
   "source": [
    "# load the iris dataset as an example \n",
    "from sklearn.datasets import load_iris \n",
    "iris = load_iris() \n",
    "  \n",
    "# store the feature matrix (X) and response vector (y) \n",
    "X = iris.data \n",
    "y = iris.target \n",
    "  \n",
    "# store the feature and target names \n",
    "feature_names = iris.feature_names \n",
    "target_names = iris.target_names \n",
    "  \n",
    "# printing features and target names of our dataset \n",
    "print(\"Feature names:\", feature_names) \n",
    "print(\"Target names:\", target_names) \n",
    "  \n",
    "# X and y are numpy arrays \n",
    "print(\"\\nType of X is:\", type(X)) \n",
    "  \n",
    "# printing first 5 input rows \n",
    "print(\"\\nFirst 5 rows of X:\\n\", X[:5])"
   ]
  },
  {
   "cell_type": "code",
   "execution_count": null,
   "metadata": {},
   "outputs": [],
   "source": [
    "! pip install pandas"
   ]
  },
  {
   "cell_type": "code",
   "execution_count": 8,
   "metadata": {},
   "outputs": [
    {
     "name": "stdout",
     "output_type": "stream",
     "text": [
      "Shape: (366, 22)\n",
      "\n",
      "Features: Index(['MinTemp', 'MaxTemp', 'Rainfall', 'Evaporation', 'Sunshine',\n",
      "       'WindGustDir', 'WindGustSpeed', 'WindDir9am', 'WindDir3pm',\n",
      "       'WindSpeed9am', 'WindSpeed3pm', 'Humidity9am', 'Humidity3pm',\n",
      "       'Pressure9am', 'Pressure3pm', 'Cloud9am', 'Cloud3pm', 'Temp9am',\n",
      "       'Temp3pm', 'RainToday', 'RISK_MM', 'RainTomorrow'],\n",
      "      dtype='object')\n",
      "\n",
      "Feature matrix:\n",
      "    MinTemp  MaxTemp  Rainfall  Evaporation  Sunshine WindGustDir  \\\n",
      "0      8.0     24.3       0.0          3.4       6.3          NW   \n",
      "1     14.0     26.9       3.6          4.4       9.7         ENE   \n",
      "2     13.7     23.4       3.6          5.8       3.3          NW   \n",
      "3     13.3     15.5      39.8          7.2       9.1          NW   \n",
      "4      7.6     16.1       2.8          5.6      10.6         SSE   \n",
      "\n",
      "   WindGustSpeed WindDir9am WindDir3pm  WindSpeed9am  ...  Humidity9am  \\\n",
      "0           30.0         SW         NW           6.0  ...           68   \n",
      "1           39.0          E          W           4.0  ...           80   \n",
      "2           85.0          N        NNE           6.0  ...           82   \n",
      "3           54.0        WNW          W          30.0  ...           62   \n",
      "4           50.0        SSE        ESE          20.0  ...           68   \n",
      "\n",
      "   Humidity3pm  Pressure9am  Pressure3pm  Cloud9am  Cloud3pm  Temp9am  \\\n",
      "0           29       1019.7       1015.0         7         7     14.4   \n",
      "1           36       1012.4       1008.4         5         3     17.5   \n",
      "2           69       1009.5       1007.2         8         7     15.4   \n",
      "3           56       1005.5       1007.0         2         7     13.5   \n",
      "4           49       1018.3       1018.5         7         7     11.1   \n",
      "\n",
      "   Temp3pm  RainToday RISK_MM  \n",
      "0     23.6         No     3.6  \n",
      "1     25.7        Yes     3.6  \n",
      "2     20.2        Yes    39.8  \n",
      "3     14.1        Yes     2.8  \n",
      "4     15.4        Yes     0.0  \n",
      "\n",
      "[5 rows x 21 columns]\n",
      "\n",
      "Response vector:\n",
      " 0    Yes\n",
      "1    Yes\n",
      "2    Yes\n",
      "3    Yes\n",
      "4     No\n",
      "Name: RainTomorrow, dtype: object\n"
     ]
    }
   ],
   "source": [
    "import pandas as pd \n",
    "  \n",
    "# reading csv file \n",
    "data = pd.read_csv('weather.csv') \n",
    "  \n",
    "# shape of dataset \n",
    "print(\"Shape:\", data.shape) \n",
    "  \n",
    "# column names \n",
    "print(\"\\nFeatures:\", data.columns) \n",
    "  \n",
    "# storing the feature matrix (X) and response vector (y) \n",
    "X = data[data.columns[:-1]] \n",
    "y = data[data.columns[-1]] \n",
    "  \n",
    "# printing first 5 rows of feature matrix \n",
    "print(\"\\nFeature matrix:\\n\", X.head()) \n",
    "  \n",
    "# printing first 5 values of response vector \n",
    "print(\"\\nResponse vector:\\n\", y.head())"
   ]
  },
  {
   "cell_type": "markdown",
   "metadata": {},
   "source": [
    "Step 2: Splitting the Dataset"
   ]
  },
  {
   "cell_type": "code",
   "execution_count": 9,
   "metadata": {},
   "outputs": [
    {
     "name": "stdout",
     "output_type": "stream",
     "text": [
      "X_train Shape: (90, 4)\n",
      "X_test Shape: (60, 4)\n",
      "Y_train Shape: (90,)\n",
      "Y_test Shape:  (60,)\n"
     ]
    }
   ],
   "source": [
    "# load the iris dataset as an example\n",
    "from sklearn.datasets import load_iris\n",
    "iris = load_iris()\n",
    "\n",
    "# store the feature matrix (X) and response vector (y)\n",
    "X = iris.data\n",
    "y = iris.target\n",
    "\n",
    "# splitting X and y into training and testing sets\n",
    "from sklearn.model_selection import train_test_split\n",
    "X_train, X_test, y_train, y_test = train_test_split(X, y, test_size=0.4, random_state=1)\n",
    "\n",
    "# printing the shapes of the new X objects\n",
    "print(\"X_train Shape:\",  X_train.shape)\n",
    "print(\"X_test Shape:\", X_test.shape)\n",
    "\n",
    "# printing the shapes of the new y objects\n",
    "print(\"Y_train Shape:\", y_train.shape)\n",
    "print(\"Y_test Shape: \",y_test.shape)"
   ]
  }
 ],
 "metadata": {
  "kernelspec": {
   "display_name": "Python 3",
   "language": "python",
   "name": "python3"
  },
  "language_info": {
   "codemirror_mode": {
    "name": "ipython",
    "version": 3
   },
   "file_extension": ".py",
   "mimetype": "text/x-python",
   "name": "python",
   "nbconvert_exporter": "python",
   "pygments_lexer": "ipython3",
   "version": "3.13.1"
  }
 },
 "nbformat": 4,
 "nbformat_minor": 2
}
